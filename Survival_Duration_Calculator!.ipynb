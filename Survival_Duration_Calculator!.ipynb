{
  "nbformat": 4,
  "nbformat_minor": 0,
  "metadata": {
    "colab": {
      "provenance": [],
      "authorship_tag": "ABX9TyNXCsfCkqlwGx/T71YkMQjl",
      "include_colab_link": true
    },
    "kernelspec": {
      "name": "python3",
      "display_name": "Python 3"
    },
    "language_info": {
      "name": "python"
    }
  },
  "cells": [
    {
      "cell_type": "markdown",
      "metadata": {
        "id": "view-in-github",
        "colab_type": "text"
      },
      "source": [
        "<a href=\"https://colab.research.google.com/github/PrajwalPPatil/Python_Project/blob/main/Survival_Duration_Calculator!.ipynb\" target=\"_parent\"><img src=\"https://colab.research.google.com/assets/colab-badge.svg\" alt=\"Open In Colab\"/></a>"
      ]
    },
    {
      "cell_type": "markdown",
      "source": [
        "**Survival Duration Calculator!**"
      ],
      "metadata": {
        "id": "0SNbD88MkNbv"
      }
    },
    {
      "cell_type": "code",
      "source": [
        "def calculate_duration(age, time_unit):\n",
        "    \"\"\"\n",
        "    Calculates the duration of life in the specified time unit.\n",
        "\n",
        "    Args:\n",
        "        age       : The age of the person in years.\n",
        "        time_unit : The desired time unit ('months', 'weeks', 'days', 'hours', 'minutes', 'seconds').\n",
        "\n",
        "    Returns:\n",
        "        The duration of life in the specified time unit.\n",
        "    \"\"\"\n",
        "\n",
        "    seconds_per_year = 365 * 24 * 60 * 60\n",
        "    total_seconds = age * seconds_per_year\n",
        "\n",
        "    if time_unit.lower() == 'months':\n",
        "        return total_seconds // (30 * 24 * 60 * 60)\n",
        "    elif time_unit.lower() == 'weeks':\n",
        "        return total_seconds // (7 * 24 * 60 * 60)\n",
        "    elif time_unit.lower() == 'days':\n",
        "        return total_seconds // (24 * 60 * 60)\n",
        "    elif time_unit.lower() == 'hours':\n",
        "        return total_seconds // (60 * 60)\n",
        "    elif time_unit.lower() == 'minutes':\n",
        "        return total_seconds // 60\n",
        "    elif time_unit.lower() == 'seconds':\n",
        "        return total_seconds\n",
        "    else:\n",
        "        return \"Invalid time unit\""
      ],
      "metadata": {
        "id": "o68oEfedkSkT"
      },
      "execution_count": 1,
      "outputs": []
    },
    {
      "cell_type": "markdown",
      "source": [
        "**1.Time unit:Months**"
      ],
      "metadata": {
        "id": "FJoLH0vPkeA7"
      }
    },
    {
      "cell_type": "code",
      "source": [
        "def calculate_duration(age, unit):\n",
        "    # Dictionary to convert age into different time units\n",
        "    conversions = {\n",
        "        \"months\"  : age * 12,                         # Age in months (12 months in a year)\n",
        "        \"weeks\"   : age * 52,                         # Age in weeks (52 weeks in a year)\n",
        "        \"days\"    : age * 365,                        # Age in days (365 days in a year)\n",
        "        \"hours\"   : age * 365 * 24,                   # Age in hours (24 hours in a day)\n",
        "        \"minutes\" : age * 365 * 24 * 60,              # Age in minutes (60 minutes in an hour)\n",
        "        \"seconds\" : age * 365 * 24 * 60 * 60          # Age in seconds (60 seconds in a minute)\n",
        "    }\n",
        "\n",
        "    # Return the conversion value for the selected unit\n",
        "    return conversions.get(unit.lower(), None)\n",
        "\n",
        "def main():\n",
        "    print(\"Welcome to the Survival Duration Calculator!\")\n",
        "\n",
        "# Step 1: Ask for the user's age\n",
        "    while True:\n",
        "        try:\n",
        "            age = int(input(\"What's your age? \"))  # Accept age as an integer\n",
        "            if age < 0:\n",
        "                raise ValueError(\"Age cannot be negative.\")\n",
        "            break\n",
        "        except ValueError as e:\n",
        "            print(f\"Invalid input: {e}. Please enter a positive number.\")\n",
        "\n",
        "# Step 2: Ask for the time unit\n",
        "    units = [\"months\", \"weeks\", \"days\", \"hours\", \"minutes\", \"seconds\"]   # Available units\n",
        "    print(\"Please choose a time unit: Months, Weeks, Days, Hours, Minutes, Seconds.\")\n",
        "    print(\"Note: You can write the first letter or the full name of the time unit.\")\n",
        "\n",
        "        # Get the user's unit input\n",
        "    while True:\n",
        "        unit_input = input(\"Choose a unit: \").strip().lower()\n",
        "        # Match the user input with available units (first letter or full name)\n",
        "        unit = next((u for u in units if unit_input == u or unit_input == u[0]), None)\n",
        "        if unit:\n",
        "            break  # Valid input, exit loop\n",
        "        else:\n",
        "            print(\"Invalid choice. Please try again.\")\n",
        "\n",
        "# Step 3: Perform the calculation for the selected unit\n",
        "    result = calculate_duration(age, unit)\n",
        "\n",
        "# Step 4: Display the result\n",
        "    print(f\"You lived for {result} {unit.capitalize()}.\")\n",
        "\n",
        "if __name__ == \"__main__\":\n",
        "  main()"
      ],
      "metadata": {
        "colab": {
          "base_uri": "https://localhost:8080/"
        },
        "id": "4woVPupdkjVz",
        "outputId": "829e34cd-6b4e-4137-ce18-7c0823524086"
      },
      "execution_count": 2,
      "outputs": [
        {
          "output_type": "stream",
          "name": "stdout",
          "text": [
            "Welcome to the Survival Duration Calculator!\n",
            "What's your age? 10\n",
            "Please choose a time unit: Months, Weeks, Days, Hours, Minutes, Seconds.\n",
            "Note: You can write the first letter or the full name of the time unit.\n",
            "Choose a unit: Months\n",
            "You lived for 120 Months.\n"
          ]
        }
      ]
    },
    {
      "cell_type": "markdown",
      "source": [
        "**2.Time unit:Weeks**"
      ],
      "metadata": {
        "id": "4-IWyW2pkrfi"
      }
    },
    {
      "cell_type": "code",
      "source": [
        "def calculate_duration(age, unit):\n",
        "    # Dictionary to convert age into different time units\n",
        "    conversions = {\n",
        "        \"months\"  : age * 12,                          # Age in months (12 months in a year)\n",
        "        \"weeks\"   : age * 52,                          # Age in weeks (52 weeks in a year)\n",
        "        \"days\"    : age * 365,                         # Age in days (365 days in a year)\n",
        "        \"hours\"   : age * 365 * 24,                    # Age in hours (24 hours in a day)\n",
        "        \"minutes\" : age * 365 * 24 * 60,               # Age in minutes (60 minutes in an hour)\n",
        "        \"seconds\" : age * 365 * 24 * 60 * 60           # Age in seconds (60 seconds in a minute)\n",
        "    }\n",
        "\n",
        "    # Return the conversion value for the selected unit\n",
        "    return conversions.get(unit.lower(), None)\n",
        "\n",
        "def main():\n",
        "    print(\"Welcome to the Survival Duration Calculator!\")\n",
        "\n",
        "# Step 1: Ask for the user's age\n",
        "    while True:\n",
        "        try:\n",
        "            age = int(input(\"What's your age? \"))  # Accept age as an integer\n",
        "            if age < 0:\n",
        "                raise ValueError(\"Age cannot be negative.\")\n",
        "            break\n",
        "        except ValueError as e:\n",
        "            print(f\"Invalid input: {e}. Please enter a positive number.\")\n",
        "\n",
        "# Step 2: Ask for the time unit\n",
        "    units = [\"months\", \"weeks\", \"days\", \"hours\", \"minutes\", \"seconds\"]  # Available units\n",
        "    print(\"Please choose a time unit: Months, Weeks, Days, Hours, Minutes, Seconds.\")\n",
        "    print(\"Note: You can write the first letter or the full name of the time unit.\")\n",
        "\n",
        "    # Get the user's unit input\n",
        "    while True:\n",
        "        unit_input = input(\"Choose a unit: \").strip().lower()\n",
        "        # Match the user input with available units (first letter or full name)\n",
        "        unit = next((u for u in units if unit_input == u or unit_input == u[0]), None)\n",
        "        if unit:\n",
        "            break  # Valid input, exit loop\n",
        "        else:\n",
        "            print(\"Invalid choice. Please try again.\")\n",
        "\n",
        "# Step 3: Perform the calculation for the selected unit\n",
        "    result = calculate_duration(age, unit)\n",
        "\n",
        "# Step 4: Display the result\n",
        "    print(f\"You lived for {result} {unit.capitalize()}.\")\n",
        "\n",
        "if __name__ == \"__main__\":\n",
        "  main()"
      ],
      "metadata": {
        "colab": {
          "base_uri": "https://localhost:8080/"
        },
        "id": "4JcValgYkvcG",
        "outputId": "db5fc691-aeef-4ada-a86e-32aaa8e4c32e"
      },
      "execution_count": 3,
      "outputs": [
        {
          "output_type": "stream",
          "name": "stdout",
          "text": [
            "Welcome to the Survival Duration Calculator!\n",
            "What's your age? 10\n",
            "Please choose a time unit: Months, Weeks, Days, Hours, Minutes, Seconds.\n",
            "Note: You can write the first letter or the full name of the time unit.\n",
            "Choose a unit: Weeks\n",
            "You lived for 520 Weeks.\n"
          ]
        }
      ]
    },
    {
      "cell_type": "markdown",
      "source": [
        "**3.Time unit:Days**"
      ],
      "metadata": {
        "id": "YtTjKMaklFsh"
      }
    },
    {
      "cell_type": "code",
      "source": [
        "def calculate_duration(age, unit):\n",
        "    # Dictionary to convert age into different time units\n",
        "    conversions = {\n",
        "        \"months\"  : age * 12,                          # Age in months (12 months in a year)\n",
        "        \"weeks\"   : age * 52,                          # Age in weeks (52 weeks in a year)\n",
        "        \"days\"    : age * 365,                         # Age in days (365 days in a year)\n",
        "        \"hours\"   : age * 365 * 24,                    # Age in hours (24 hours in a day)\n",
        "        \"minutes\" : age * 365 * 24 * 60,               # Age in minutes (60 minutes in an hour)\n",
        "        \"seconds\" : age * 365 * 24 * 60 * 60           # Age in seconds (60 seconds in a minute)\n",
        "    }\n",
        "\n",
        "    # Return the conversion value for the selected unit\n",
        "    return conversions.get(unit.lower(), None)\n",
        "\n",
        "def main():\n",
        "    print(\"Welcome to the Survival Duration Calculator!\")\n",
        "\n",
        "# Step 1: Ask for the user's age\n",
        "    while True:\n",
        "        try:\n",
        "            age = int(input(\"What's your age? \"))  # Accept age as an integer\n",
        "            if age < 0:\n",
        "                raise ValueError(\"Age cannot be negative.\")\n",
        "            break\n",
        "        except ValueError as e:\n",
        "            print(f\"Invalid input: {e}. Please enter a positive number.\")\n",
        "\n",
        "# Step 2: Ask for the time unit\n",
        "    units = [\"months\", \"weeks\", \"days\", \"hours\", \"minutes\", \"seconds\"]  # Available units\n",
        "    print(\"Please choose a time unit: Months, Weeks, Days, Hours, Minutes, Seconds.\")\n",
        "    print(\"Note: You can write the first letter or the full name of the time unit.\")\n",
        "\n",
        "    # Get the user's unit input\n",
        "    while True:\n",
        "        unit_input = input(\"Choose a unit: \").strip().lower()\n",
        "        # Match the user input with available units (first letter or full name)\n",
        "        unit = next((u for u in units if unit_input == u or unit_input == u[0]), None)\n",
        "        if unit:\n",
        "            break  # Valid input, exit loop\n",
        "        else:\n",
        "            print(\"Invalid choice. Please try again.\")\n",
        "\n",
        "# Step 3: Perform the calculation for the selected unit\n",
        "    result = calculate_duration(age, unit)\n",
        "\n",
        "# Step 4: Display the result\n",
        "    print(f\"You lived for {result} {unit.capitalize()}.\")\n",
        "\n",
        "if __name__ == \"__main__\":\n",
        "  main()"
      ],
      "metadata": {
        "colab": {
          "base_uri": "https://localhost:8080/"
        },
        "id": "U7k04Xg2k3MC",
        "outputId": "96b94a04-da1f-4cdb-d3fa-5291216ea472"
      },
      "execution_count": 4,
      "outputs": [
        {
          "output_type": "stream",
          "name": "stdout",
          "text": [
            "Welcome to the Survival Duration Calculator!\n",
            "What's your age? 10\n",
            "Please choose a time unit: Months, Weeks, Days, Hours, Minutes, Seconds.\n",
            "Note: You can write the first letter or the full name of the time unit.\n",
            "Choose a unit: Days\n",
            "You lived for 3650 Days.\n"
          ]
        }
      ]
    },
    {
      "cell_type": "markdown",
      "source": [
        "**4.Time unit:Hours**"
      ],
      "metadata": {
        "id": "MoYFOLTzlX8N"
      }
    },
    {
      "cell_type": "code",
      "source": [
        "def calculate_duration(age, unit):\n",
        "    # Dictionary to convert age into different time units\n",
        "    conversions = {\n",
        "        \"months\"  : age * 12,                         # Age in months (12 months in a year)\n",
        "        \"weeks\"   : age * 52,                         # Age in weeks (52 weeks in a year)\n",
        "        \"days\"    : age * 365,                        # Age in days (365 days in a year)\n",
        "        \"hours\"   : age * 365 * 24,                   # Age in hours (24 hours in a day)\n",
        "        \"minutes\" : age * 365 * 24 * 60,              # Age in minutes (60 minutes in an hour)\n",
        "        \"seconds\" : age * 365 * 24 * 60 * 60          # Age in seconds (60 seconds in a minute)\n",
        "    }\n",
        "\n",
        "    # Return the conversion value for the selected unit\n",
        "    return conversions.get(unit.lower(), None)\n",
        "\n",
        "def main():\n",
        "    print(\"Welcome to the Survival Duration Calculator!\")\n",
        "\n",
        "# Step 1: Ask for the user's age\n",
        "    while True:\n",
        "        try:\n",
        "            age = int(input(\"What's your age? \"))  # Accept age as an integer\n",
        "            if age < 0:\n",
        "                raise ValueError(\"Age cannot be negative.\")\n",
        "            break\n",
        "        except ValueError as e:\n",
        "            print(f\"Invalid input: {e}. Please enter a positive number.\")\n",
        "\n",
        "# Step 2: Ask for the time unit\n",
        "    units = [\"months\", \"weeks\", \"days\", \"hours\", \"minutes\", \"seconds\"]  # Available units\n",
        "    print(\"Please choose a time unit: Months, Weeks, Days, Hours, Minutes, Seconds.\")\n",
        "    print(\"Note: You can write the first letter or the full name of the time unit.\")\n",
        "\n",
        "    # Get the user's unit input\n",
        "    while True:\n",
        "        unit_input = input(\"Choose a unit: \").strip().lower()\n",
        "        # Match the user input with available units (first letter or full name)\n",
        "        unit = next((u for u in units if unit_input == u or unit_input == u[0]), None)\n",
        "        if unit:\n",
        "            break  # Valid input, exit loop\n",
        "        else:\n",
        "            print(\"Invalid choice. Please try again.\")\n",
        "\n",
        "# Step 3: Perform the calculation for the selected unit\n",
        "    result = calculate_duration(age, unit)\n",
        "\n",
        "# Step 4: Display the result\n",
        "    print(f\"You lived for {result} {unit.capitalize()}.\")\n",
        "\n",
        "if __name__ == \"__main__\":\n",
        "  main()"
      ],
      "metadata": {
        "colab": {
          "base_uri": "https://localhost:8080/"
        },
        "id": "68hqZyjilSeF",
        "outputId": "0da993b2-1d50-42b4-883d-a7f6f3fa9b79"
      },
      "execution_count": 5,
      "outputs": [
        {
          "output_type": "stream",
          "name": "stdout",
          "text": [
            "Welcome to the Survival Duration Calculator!\n",
            "What's your age? 10\n",
            "Please choose a time unit: Months, Weeks, Days, Hours, Minutes, Seconds.\n",
            "Note: You can write the first letter or the full name of the time unit.\n",
            "Choose a unit: Hours\n",
            "You lived for 87600 Hours.\n"
          ]
        }
      ]
    },
    {
      "cell_type": "markdown",
      "source": [
        "**5.Time unit:Minutes**"
      ],
      "metadata": {
        "id": "JwUxYMaGloPM"
      }
    },
    {
      "cell_type": "code",
      "source": [
        "def calculate_duration(age, unit):\n",
        "    # Dictionary to convert age into different time units\n",
        "    conversions = {\n",
        "        \"months\" : age * 12,                         # Age in months (12 months in a year)\n",
        "        \"weeks\"  : age * 52,                         # Age in weeks (52 weeks in a year)\n",
        "        \"days\"   : age * 365,                        # Age in days (365 days in a year)\n",
        "        \"hours\"  : age * 365 * 24,                   # Age in hours (24 hours in a day)\n",
        "        \"minutes\": age * 365 * 24 * 60,              # Age in minutes (60 minutes in an hour)\n",
        "        \"seconds\": age * 365 * 24 * 60 * 60          # Age in seconds (60 seconds in a minute)\n",
        "    }\n",
        "\n",
        "    # Return the conversion value for the selected unit\n",
        "    return conversions.get(unit.lower(), None)\n",
        "\n",
        "def main():\n",
        "    print(\"Welcome to the Survival Duration Calculator!\")\n",
        "\n",
        "# Step 1: Ask for the user's age\n",
        "    while True:\n",
        "        try:\n",
        "            age = int(input(\"What's your age? \"))  # Accept age as an integer\n",
        "            if age < 0:\n",
        "                raise ValueError(\"Age cannot be negative.\")\n",
        "            break\n",
        "        except ValueError as e:\n",
        "            print(f\"Invalid input: {e}. Please enter a positive number.\")\n",
        "\n",
        "# Step 2: Ask for the time unit\n",
        "    units = [\"months\", \"weeks\", \"days\", \"hours\", \"minutes\", \"seconds\"]  # Available units\n",
        "    print(\"Please choose a time unit: Months, Weeks, Days, Hours, Minutes, Seconds.\")\n",
        "    print(\"Note: You can write the first letter or the full name of the time unit.\")\n",
        "\n",
        "    # Get the user's unit input\n",
        "    while True:\n",
        "        unit_input = input(\"Choose a unit: \").strip().lower()\n",
        "        # Match the user input with available units (first letter or full name)\n",
        "        unit = next((u for u in units if unit_input == u or unit_input == u[0]), None)\n",
        "        if unit:\n",
        "            break  # Valid input, exit loop\n",
        "        else:\n",
        "            print(\"Invalid choice. Please try again.\")\n",
        "\n",
        "# Step 3: Perform the calculation for the selected unit\n",
        "    result = calculate_duration(age, unit)\n",
        "\n",
        "# Step 4: Display the result\n",
        "    print(f\"You lived for {result} {unit.capitalize()}.\")\n",
        "\n",
        "if __name__ == \"__main__\":\n",
        "  main()"
      ],
      "metadata": {
        "colab": {
          "base_uri": "https://localhost:8080/"
        },
        "id": "4kkk7borliPx",
        "outputId": "e6033626-be52-493d-e362-2bae78f4a1eb"
      },
      "execution_count": 6,
      "outputs": [
        {
          "output_type": "stream",
          "name": "stdout",
          "text": [
            "Welcome to the Survival Duration Calculator!\n",
            "What's your age? 10\n",
            "Please choose a time unit: Months, Weeks, Days, Hours, Minutes, Seconds.\n",
            "Note: You can write the first letter or the full name of the time unit.\n",
            "Choose a unit: Minutes\n",
            "You lived for 5256000 Minutes.\n"
          ]
        }
      ]
    },
    {
      "cell_type": "markdown",
      "source": [
        "**6.Time unit:Seconds**"
      ],
      "metadata": {
        "id": "6Q4W-Z6Ql08g"
      }
    },
    {
      "cell_type": "code",
      "source": [
        "def calculate_duration(age, unit):\n",
        "    # Dictionary to convert age into different time units\n",
        "    conversions = {\n",
        "        \"months\" : age * 12,                         # Age in months (12 months in a year)\n",
        "        \"weeks\"  : age * 52,                         # Age in weeks (52 weeks in a year)\n",
        "        \"days\"   : age * 365,                        # Age in days (365 days in a year)\n",
        "        \"hours\"  : age * 365 * 24,                   # Age in hours (24 hours in a day)\n",
        "        \"minutes\": age * 365 * 24 * 60,              # Age in minutes (60 minutes in an hour)\n",
        "        \"seconds\": age * 365 * 24 * 60 * 60          # Age in seconds (60 seconds in a minute)\n",
        "    }\n",
        "\n",
        "    # Return the conversion value for the selected unit\n",
        "    return conversions.get(unit.lower(), None)\n",
        "\n",
        "def main():\n",
        "    print(\"Welcome to the Survival Duration Calculator!\")\n",
        "\n",
        "# Step 1: Ask for the user's age\n",
        "    while True:\n",
        "        try:\n",
        "            age = int(input(\"What's your age? \"))  # Accept age as an integer\n",
        "            if age < 0:\n",
        "                raise ValueError(\"Age cannot be negative.\")\n",
        "            break\n",
        "        except ValueError as e:\n",
        "            print(f\"Invalid input: {e}. Please enter a positive number.\")\n",
        "\n",
        "# Step 2: Ask for the time unit\n",
        "    units = [\"months\", \"weeks\", \"days\", \"hours\", \"minutes\", \"seconds\"]  # Available units\n",
        "    print(\"Please choose a time unit: Months, Weeks, Days, Hours, Minutes, Seconds.\")\n",
        "    print(\"Note: You can write the first letter or the full name of the time unit.\")\n",
        "\n",
        "    # Get the user's unit input\n",
        "    while True:\n",
        "        unit_input = input(\"Choose a unit: \").strip().lower()\n",
        "        # Match the user input with available units (first letter or full name)\n",
        "        unit = next((u for u in units if unit_input == u or unit_input == u[0]), None)\n",
        "        if unit:\n",
        "            break  # Valid input, exit loop\n",
        "        else:\n",
        "            print(\"Invalid choice. Please try again.\")\n",
        "\n",
        "# Step 3: Perform the calculation for the selected unit\n",
        "    result = calculate_duration(age, unit)\n",
        "\n",
        "# Step 4: Display the result\n",
        "    print(f\"You lived for {result} {unit.capitalize()}.\")\n",
        "\n",
        "if __name__ == \"__main__\":\n",
        "  main()"
      ],
      "metadata": {
        "colab": {
          "base_uri": "https://localhost:8080/"
        },
        "id": "_BeAVURVlwDJ",
        "outputId": "799d5bc2-518f-4b43-9361-2053a80aa874"
      },
      "execution_count": 7,
      "outputs": [
        {
          "output_type": "stream",
          "name": "stdout",
          "text": [
            "Welcome to the Survival Duration Calculator!\n",
            "What's your age? 10\n",
            "Please choose a time unit: Months, Weeks, Days, Hours, Minutes, Seconds.\n",
            "Note: You can write the first letter or the full name of the time unit.\n",
            "Choose a unit: Seconds\n",
            "You lived for 315360000 Seconds.\n"
          ]
        }
      ]
    }
  ]
}